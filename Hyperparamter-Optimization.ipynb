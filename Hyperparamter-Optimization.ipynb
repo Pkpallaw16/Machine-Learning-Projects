{
 "cells": [
  {
   "cell_type": "markdown",
   "metadata": {},
   "source": [
    "All Techniques Of Hyper Parameter Optimization\n",
    "1.GridSearchCV\n",
    "\n",
    "2.RandomizedSearchCV\n",
    "\n",
    "3.Bayesian Optimization -Automate Hyperparameter Tuning (Hyperopt)\n",
    "\n",
    "4.Sequential Model Based Optimization(Tuning a scikit-learn estimator with skopt)\n",
    "\n",
    "5.Optuna- Automate Hyperparameter Tuning\n",
    "\n",
    "6.Genetic Algorithms (TPOT Classifier)"
   ]
  },
  {
   "cell_type": "code",
   "execution_count": 27,
   "metadata": {},
   "outputs": [],
   "source": [
    "import warnings\n",
    "warnings.filterwarnings('ignore')"
   ]
  },
  {
   "cell_type": "code",
   "execution_count": 28,
   "metadata": {},
   "outputs": [
    {
     "data": {
      "text/html": [
       "<div>\n",
       "<style scoped>\n",
       "    .dataframe tbody tr th:only-of-type {\n",
       "        vertical-align: middle;\n",
       "    }\n",
       "\n",
       "    .dataframe tbody tr th {\n",
       "        vertical-align: top;\n",
       "    }\n",
       "\n",
       "    .dataframe thead th {\n",
       "        text-align: right;\n",
       "    }\n",
       "</style>\n",
       "<table border=\"1\" class=\"dataframe\">\n",
       "  <thead>\n",
       "    <tr style=\"text-align: right;\">\n",
       "      <th></th>\n",
       "      <th>Pregnancies</th>\n",
       "      <th>Glucose</th>\n",
       "      <th>BloodPressure</th>\n",
       "      <th>SkinThickness</th>\n",
       "      <th>Insulin</th>\n",
       "      <th>BMI</th>\n",
       "      <th>DiabetesPedigreeFunction</th>\n",
       "      <th>Age</th>\n",
       "      <th>Outcome</th>\n",
       "    </tr>\n",
       "  </thead>\n",
       "  <tbody>\n",
       "    <tr>\n",
       "      <th>0</th>\n",
       "      <td>6</td>\n",
       "      <td>148</td>\n",
       "      <td>72</td>\n",
       "      <td>35</td>\n",
       "      <td>0</td>\n",
       "      <td>33.6</td>\n",
       "      <td>0.627</td>\n",
       "      <td>50</td>\n",
       "      <td>1</td>\n",
       "    </tr>\n",
       "    <tr>\n",
       "      <th>1</th>\n",
       "      <td>1</td>\n",
       "      <td>85</td>\n",
       "      <td>66</td>\n",
       "      <td>29</td>\n",
       "      <td>0</td>\n",
       "      <td>26.6</td>\n",
       "      <td>0.351</td>\n",
       "      <td>31</td>\n",
       "      <td>0</td>\n",
       "    </tr>\n",
       "    <tr>\n",
       "      <th>2</th>\n",
       "      <td>8</td>\n",
       "      <td>183</td>\n",
       "      <td>64</td>\n",
       "      <td>0</td>\n",
       "      <td>0</td>\n",
       "      <td>23.3</td>\n",
       "      <td>0.672</td>\n",
       "      <td>32</td>\n",
       "      <td>1</td>\n",
       "    </tr>\n",
       "    <tr>\n",
       "      <th>3</th>\n",
       "      <td>1</td>\n",
       "      <td>89</td>\n",
       "      <td>66</td>\n",
       "      <td>23</td>\n",
       "      <td>94</td>\n",
       "      <td>28.1</td>\n",
       "      <td>0.167</td>\n",
       "      <td>21</td>\n",
       "      <td>0</td>\n",
       "    </tr>\n",
       "    <tr>\n",
       "      <th>4</th>\n",
       "      <td>0</td>\n",
       "      <td>137</td>\n",
       "      <td>40</td>\n",
       "      <td>35</td>\n",
       "      <td>168</td>\n",
       "      <td>43.1</td>\n",
       "      <td>2.288</td>\n",
       "      <td>33</td>\n",
       "      <td>1</td>\n",
       "    </tr>\n",
       "  </tbody>\n",
       "</table>\n",
       "</div>"
      ],
      "text/plain": [
       "   Pregnancies  Glucose  BloodPressure  SkinThickness  Insulin   BMI  \\\n",
       "0            6      148             72             35        0  33.6   \n",
       "1            1       85             66             29        0  26.6   \n",
       "2            8      183             64              0        0  23.3   \n",
       "3            1       89             66             23       94  28.1   \n",
       "4            0      137             40             35      168  43.1   \n",
       "\n",
       "   DiabetesPedigreeFunction  Age  Outcome  \n",
       "0                     0.627   50        1  \n",
       "1                     0.351   31        0  \n",
       "2                     0.672   32        1  \n",
       "3                     0.167   21        0  \n",
       "4                     2.288   33        1  "
      ]
     },
     "execution_count": 28,
     "metadata": {},
     "output_type": "execute_result"
    }
   ],
   "source": [
    "import pandas as pd\n",
    "df=pd.read_csv(r'C:\\Users\\PALLAW-PC\\Desktop\\ML&Deep_Learning\\Diabetes_dataset\\diabetes.csv')\n",
    "df.head()"
   ]
  },
  {
   "cell_type": "code",
   "execution_count": 29,
   "metadata": {},
   "outputs": [
    {
     "data": {
      "text/html": [
       "<div>\n",
       "<style scoped>\n",
       "    .dataframe tbody tr th:only-of-type {\n",
       "        vertical-align: middle;\n",
       "    }\n",
       "\n",
       "    .dataframe tbody tr th {\n",
       "        vertical-align: top;\n",
       "    }\n",
       "\n",
       "    .dataframe thead th {\n",
       "        text-align: right;\n",
       "    }\n",
       "</style>\n",
       "<table border=\"1\" class=\"dataframe\">\n",
       "  <thead>\n",
       "    <tr style=\"text-align: right;\">\n",
       "      <th></th>\n",
       "      <th>Pregnancies</th>\n",
       "      <th>Glucose</th>\n",
       "      <th>BloodPressure</th>\n",
       "      <th>SkinThickness</th>\n",
       "      <th>Insulin</th>\n",
       "      <th>BMI</th>\n",
       "      <th>DiabetesPedigreeFunction</th>\n",
       "      <th>Age</th>\n",
       "      <th>Outcome</th>\n",
       "    </tr>\n",
       "  </thead>\n",
       "  <tbody>\n",
       "    <tr>\n",
       "      <th>0</th>\n",
       "      <td>6</td>\n",
       "      <td>35.0</td>\n",
       "      <td>72</td>\n",
       "      <td>35</td>\n",
       "      <td>0</td>\n",
       "      <td>33.6</td>\n",
       "      <td>0.627</td>\n",
       "      <td>50</td>\n",
       "      <td>1</td>\n",
       "    </tr>\n",
       "    <tr>\n",
       "      <th>1</th>\n",
       "      <td>1</td>\n",
       "      <td>29.0</td>\n",
       "      <td>66</td>\n",
       "      <td>29</td>\n",
       "      <td>0</td>\n",
       "      <td>26.6</td>\n",
       "      <td>0.351</td>\n",
       "      <td>31</td>\n",
       "      <td>0</td>\n",
       "    </tr>\n",
       "    <tr>\n",
       "      <th>2</th>\n",
       "      <td>8</td>\n",
       "      <td>23.0</td>\n",
       "      <td>64</td>\n",
       "      <td>0</td>\n",
       "      <td>0</td>\n",
       "      <td>23.3</td>\n",
       "      <td>0.672</td>\n",
       "      <td>32</td>\n",
       "      <td>1</td>\n",
       "    </tr>\n",
       "    <tr>\n",
       "      <th>3</th>\n",
       "      <td>1</td>\n",
       "      <td>23.0</td>\n",
       "      <td>66</td>\n",
       "      <td>23</td>\n",
       "      <td>94</td>\n",
       "      <td>28.1</td>\n",
       "      <td>0.167</td>\n",
       "      <td>21</td>\n",
       "      <td>0</td>\n",
       "    </tr>\n",
       "    <tr>\n",
       "      <th>4</th>\n",
       "      <td>0</td>\n",
       "      <td>35.0</td>\n",
       "      <td>40</td>\n",
       "      <td>35</td>\n",
       "      <td>168</td>\n",
       "      <td>43.1</td>\n",
       "      <td>2.288</td>\n",
       "      <td>33</td>\n",
       "      <td>1</td>\n",
       "    </tr>\n",
       "  </tbody>\n",
       "</table>\n",
       "</div>"
      ],
      "text/plain": [
       "   Pregnancies  Glucose  BloodPressure  SkinThickness  Insulin   BMI  \\\n",
       "0            6     35.0             72             35        0  33.6   \n",
       "1            1     29.0             66             29        0  26.6   \n",
       "2            8     23.0             64              0        0  23.3   \n",
       "3            1     23.0             66             23       94  28.1   \n",
       "4            0     35.0             40             35      168  43.1   \n",
       "\n",
       "   DiabetesPedigreeFunction  Age  Outcome  \n",
       "0                     0.627   50        1  \n",
       "1                     0.351   31        0  \n",
       "2                     0.672   32        1  \n",
       "3                     0.167   21        0  \n",
       "4                     2.288   33        1  "
      ]
     },
     "execution_count": 29,
     "metadata": {},
     "output_type": "execute_result"
    }
   ],
   "source": [
    "import numpy as np\n",
    "df['Glucose']=np.where(df['Glucose']==0,df['Glucose'].median(),df['Glucose'])\n",
    "df['Glucose']=np.where(df['Insulin']==0,df['Insulin'].median(),df['Insulin'])\n",
    "df['Glucose']=np.where(df['SkinThickness']==0,df['SkinThickness'].median(),df['SkinThickness'])\n",
    "df.head()"
   ]
  },
  {
   "cell_type": "code",
   "execution_count": 30,
   "metadata": {},
   "outputs": [],
   "source": [
    "#### Independent And Dependent features\n",
    "X=df.drop('Outcome',axis=1)\n",
    "y=df['Outcome']"
   ]
  },
  {
   "cell_type": "code",
   "execution_count": 31,
   "metadata": {},
   "outputs": [],
   "source": [
    "#### Train Test Split\n",
    "from sklearn.model_selection import train_test_split\n",
    "X_train,X_test,y_train,y_test=train_test_split(X,y,test_size=0.20,random_state=0)"
   ]
  },
  {
   "cell_type": "code",
   "execution_count": 32,
   "metadata": {},
   "outputs": [],
   "source": [
    "from sklearn.ensemble import RandomForestClassifier\n",
    "rf_classifier=RandomForestClassifier(n_estimators=10).fit(X_train,y_train)\n",
    "prediction=rf_classifier.predict(X_test)"
   ]
  },
  {
   "cell_type": "code",
   "execution_count": 33,
   "metadata": {},
   "outputs": [
    {
     "data": {
      "text/plain": [
       "0    500\n",
       "1    268\n",
       "Name: Outcome, dtype: int64"
      ]
     },
     "execution_count": 33,
     "metadata": {},
     "output_type": "execute_result"
    }
   ],
   "source": [
    "y.value_counts()"
   ]
  },
  {
   "cell_type": "code",
   "execution_count": 34,
   "metadata": {},
   "outputs": [
    {
     "name": "stdout",
     "output_type": "stream",
     "text": [
      "[[89 18]\n",
      " [29 18]]\n",
      "0.6948051948051948\n",
      "              precision    recall  f1-score   support\n",
      "\n",
      "           0       0.75      0.83      0.79       107\n",
      "           1       0.50      0.38      0.43        47\n",
      "\n",
      "    accuracy                           0.69       154\n",
      "   macro avg       0.63      0.61      0.61       154\n",
      "weighted avg       0.68      0.69      0.68       154\n",
      "\n"
     ]
    }
   ],
   "source": [
    "\n",
    "from sklearn.metrics import confusion_matrix,classification_report,accuracy_score\n",
    "print(confusion_matrix(y_test,prediction))\n",
    "print(accuracy_score(y_test,prediction))\n",
    "print(classification_report(y_test,prediction))"
   ]
  },
  {
   "cell_type": "markdown",
   "metadata": {},
   "source": [
    "The main parameters used by a Random Forest Classifier are:\n",
    "\n",
    "#criterion = the function used to evaluate the quality of a split.\n",
    "#max_depth = maximum number of levels allowed in each tree.\n",
    "#max_features = maximum number of features considered when splitting a node.\n",
    "#min_samples_leaf = minimum number of samples which can be stored in a tree leaf.\n",
    "#min_samples_split = minimum number of samples necessary in a node to cause node splitting.\n",
    "#n_estimators = number of trees in the ensamble."
   ]
  },
  {
   "cell_type": "code",
   "execution_count": 35,
   "metadata": {},
   "outputs": [
    {
     "name": "stdout",
     "output_type": "stream",
     "text": [
      "[[94 13]\n",
      " [28 19]]\n",
      "0.7337662337662337\n",
      "              precision    recall  f1-score   support\n",
      "\n",
      "           0       0.77      0.88      0.82       107\n",
      "           1       0.59      0.40      0.48        47\n",
      "\n",
      "    accuracy                           0.73       154\n",
      "   macro avg       0.68      0.64      0.65       154\n",
      "weighted avg       0.72      0.73      0.72       154\n",
      "\n"
     ]
    }
   ],
   "source": [
    "### Manual Hyperparameter Tuning\n",
    "model=RandomForestClassifier(n_estimators=300,criterion='entropy',\n",
    "                             max_features='sqrt',min_samples_leaf=10,random_state=100).fit(X_train,y_train)\n",
    "predictions=model.predict(X_test)\n",
    "print(confusion_matrix(y_test,predictions))\n",
    "print(accuracy_score(y_test,predictions))\n",
    "print(classification_report(y_test,predictions))"
   ]
  },
  {
   "cell_type": "code",
   "execution_count": 36,
   "metadata": {},
   "outputs": [
    {
     "name": "stdout",
     "output_type": "stream",
     "text": [
      "{'n_estimators': [200, 400, 600, 800, 1000, 1200, 1400, 1600, 1800, 2000], 'max_features': ['auto', 'sqrt', 'log2'], 'max_depth': [10, 120, 230, 340, 450, 560, 670, 780, 890, 1000], 'min_samples_split': [2, 5, 10, 14], 'min_samples_leaf': [1, 2, 4, 6, 8], 'criterion': ['entropy', 'gini']}\n"
     ]
    }
   ],
   "source": [
    "import numpy as np\n",
    "from sklearn.model_selection import RandomizedSearchCV\n",
    "# Number of trees in random forest\n",
    "n_estimators = [int(x) for x in np.linspace(start = 200, stop = 2000, num = 10)]\n",
    "# Number of features to consider at every split\n",
    "max_features = ['auto', 'sqrt','log2']\n",
    "# Maximum number of levels in tree\n",
    "max_depth = [int(x) for x in np.linspace(10, 1000,10)]\n",
    "# Minimum number of samples required to split a node\n",
    "min_samples_split = [2, 5, 10,14]\n",
    "# Minimum number of samples required at each leaf node\n",
    "min_samples_leaf = [1, 2, 4,6,8]\n",
    "# Create the random grid\n",
    "random_grid = {'n_estimators': n_estimators,\n",
    "               'max_features': max_features,\n",
    "               'max_depth': max_depth,\n",
    "               'min_samples_split': min_samples_split,\n",
    "               'min_samples_leaf': min_samples_leaf,\n",
    "              'criterion':['entropy','gini']}\n",
    "print(random_grid)"
   ]
  },
  {
   "cell_type": "code",
   "execution_count": 37,
   "metadata": {},
   "outputs": [
    {
     "name": "stdout",
     "output_type": "stream",
     "text": [
      "Fitting 3 folds for each of 100 candidates, totalling 300 fits\n"
     ]
    },
    {
     "name": "stderr",
     "output_type": "stream",
     "text": [
      "[Parallel(n_jobs=-1)]: Using backend LokyBackend with 4 concurrent workers.\n",
      "[Parallel(n_jobs=-1)]: Done  33 tasks      | elapsed:  1.1min\n",
      "[Parallel(n_jobs=-1)]: Done 154 tasks      | elapsed:  3.8min\n",
      "[Parallel(n_jobs=-1)]: Done 300 out of 300 | elapsed:  7.5min finished\n"
     ]
    },
    {
     "data": {
      "text/plain": [
       "RandomizedSearchCV(cv=3, estimator=RandomForestClassifier(), n_iter=100,\n",
       "                   n_jobs=-1,\n",
       "                   param_distributions={'criterion': ['entropy', 'gini'],\n",
       "                                        'max_depth': [10, 120, 230, 340, 450,\n",
       "                                                      560, 670, 780, 890,\n",
       "                                                      1000],\n",
       "                                        'max_features': ['auto', 'sqrt',\n",
       "                                                         'log2'],\n",
       "                                        'min_samples_leaf': [1, 2, 4, 6, 8],\n",
       "                                        'min_samples_split': [2, 5, 10, 14],\n",
       "                                        'n_estimators': [200, 400, 600, 800,\n",
       "                                                         1000, 1200, 1400, 1600,\n",
       "                                                         1800, 2000]},\n",
       "                   random_state=100, verbose=2)"
      ]
     },
     "execution_count": 37,
     "metadata": {},
     "output_type": "execute_result"
    }
   ],
   "source": [
    "rf=RandomForestClassifier()\n",
    "rf_randomcv=RandomizedSearchCV(estimator=rf,param_distributions=random_grid,n_iter=100,cv=3,verbose=2,\n",
    "                               random_state=100,n_jobs=-1)\n",
    "### fit the randomized model\n",
    "rf_randomcv.fit(X_train,y_train)"
   ]
  },
  {
   "cell_type": "code",
   "execution_count": 38,
   "metadata": {},
   "outputs": [
    {
     "data": {
      "text/plain": [
       "{'n_estimators': 2000,\n",
       " 'min_samples_split': 14,\n",
       " 'min_samples_leaf': 1,\n",
       " 'max_features': 'sqrt',\n",
       " 'max_depth': 340,\n",
       " 'criterion': 'gini'}"
      ]
     },
     "execution_count": 38,
     "metadata": {},
     "output_type": "execute_result"
    }
   ],
   "source": [
    "rf_randomcv.best_params_"
   ]
  },
  {
   "cell_type": "code",
   "execution_count": 39,
   "metadata": {},
   "outputs": [
    {
     "data": {
      "text/plain": [
       "RandomizedSearchCV(cv=3, estimator=RandomForestClassifier(), n_iter=100,\n",
       "                   n_jobs=-1,\n",
       "                   param_distributions={'criterion': ['entropy', 'gini'],\n",
       "                                        'max_depth': [10, 120, 230, 340, 450,\n",
       "                                                      560, 670, 780, 890,\n",
       "                                                      1000],\n",
       "                                        'max_features': ['auto', 'sqrt',\n",
       "                                                         'log2'],\n",
       "                                        'min_samples_leaf': [1, 2, 4, 6, 8],\n",
       "                                        'min_samples_split': [2, 5, 10, 14],\n",
       "                                        'n_estimators': [200, 400, 600, 800,\n",
       "                                                         1000, 1200, 1400, 1600,\n",
       "                                                         1800, 2000]},\n",
       "                   random_state=100, verbose=2)"
      ]
     },
     "execution_count": 39,
     "metadata": {},
     "output_type": "execute_result"
    }
   ],
   "source": [
    "\n",
    "rf_randomcv"
   ]
  },
  {
   "cell_type": "code",
   "execution_count": 40,
   "metadata": {},
   "outputs": [],
   "source": [
    "best_random_grid=rf_randomcv.best_estimator_"
   ]
  },
  {
   "cell_type": "code",
   "execution_count": 41,
   "metadata": {},
   "outputs": [
    {
     "name": "stdout",
     "output_type": "stream",
     "text": [
      "[[90 17]\n",
      " [23 24]]\n",
      "Accuracy Score 0.7402597402597403\n",
      "Classification report:               precision    recall  f1-score   support\n",
      "\n",
      "           0       0.80      0.84      0.82       107\n",
      "           1       0.59      0.51      0.55        47\n",
      "\n",
      "    accuracy                           0.74       154\n",
      "   macro avg       0.69      0.68      0.68       154\n",
      "weighted avg       0.73      0.74      0.73       154\n",
      "\n"
     ]
    }
   ],
   "source": [
    "from sklearn.metrics import accuracy_score\n",
    "y_pred=best_random_grid.predict(X_test)\n",
    "print(confusion_matrix(y_test,y_pred))\n",
    "print(\"Accuracy Score {}\".format(accuracy_score(y_test,y_pred)))\n",
    "print(\"Classification report: {}\".format(classification_report(y_test,y_pred)))\n"
   ]
  },
  {
   "cell_type": "code",
   "execution_count": 42,
   "metadata": {},
   "outputs": [
    {
     "data": {
      "text/plain": [
       "{'n_estimators': 2000,\n",
       " 'min_samples_split': 14,\n",
       " 'min_samples_leaf': 1,\n",
       " 'max_features': 'sqrt',\n",
       " 'max_depth': 340,\n",
       " 'criterion': 'gini'}"
      ]
     },
     "execution_count": 42,
     "metadata": {},
     "output_type": "execute_result"
    }
   ],
   "source": [
    "rf_randomcv.best_params_"
   ]
  },
  {
   "cell_type": "markdown",
   "metadata": {},
   "source": [
    "# GridSearch CV"
   ]
  },
  {
   "cell_type": "code",
   "execution_count": 43,
   "metadata": {},
   "outputs": [
    {
     "name": "stdout",
     "output_type": "stream",
     "text": [
      "{'criterion': ['gini'], 'max_depth': [340], 'max_features': ['sqrt'], 'min_samples_leaf': [1, 3, 5], 'min_samples_split': [12, 13, 14, 15, 16], 'n_estimators': [1800, 1900, 2000, 2100, 2200]}\n"
     ]
    }
   ],
   "source": [
    "from sklearn.model_selection import GridSearchCV\n",
    "\n",
    "param_grid = {\n",
    "    'criterion': [rf_randomcv.best_params_['criterion']],\n",
    "    'max_depth': [rf_randomcv.best_params_['max_depth']],\n",
    "    'max_features': [rf_randomcv.best_params_['max_features']],\n",
    "    'min_samples_leaf': [rf_randomcv.best_params_['min_samples_leaf'], \n",
    "                         rf_randomcv.best_params_['min_samples_leaf']+2, \n",
    "                         rf_randomcv.best_params_['min_samples_leaf'] + 4],\n",
    "    'min_samples_split': [rf_randomcv.best_params_['min_samples_split'] - 2,\n",
    "                          rf_randomcv.best_params_['min_samples_split'] - 1,\n",
    "                          rf_randomcv.best_params_['min_samples_split'], \n",
    "                          rf_randomcv.best_params_['min_samples_split'] +1,\n",
    "                          rf_randomcv.best_params_['min_samples_split'] + 2],\n",
    "    'n_estimators': [rf_randomcv.best_params_['n_estimators'] - 200, rf_randomcv.best_params_['n_estimators'] - 100, \n",
    "                     rf_randomcv.best_params_['n_estimators'], \n",
    "                     rf_randomcv.best_params_['n_estimators'] + 100, rf_randomcv.best_params_['n_estimators'] + 200]\n",
    "}\n",
    "\n",
    "print(param_grid)"
   ]
  },
  {
   "cell_type": "code",
   "execution_count": 44,
   "metadata": {},
   "outputs": [
    {
     "name": "stdout",
     "output_type": "stream",
     "text": [
      "Fitting 10 folds for each of 75 candidates, totalling 750 fits\n"
     ]
    },
    {
     "name": "stderr",
     "output_type": "stream",
     "text": [
      "[Parallel(n_jobs=-1)]: Using backend LokyBackend with 4 concurrent workers.\n",
      "[Parallel(n_jobs=-1)]: Done  33 tasks      | elapsed:  1.7min\n",
      "[Parallel(n_jobs=-1)]: Done 154 tasks      | elapsed:  7.2min\n",
      "[Parallel(n_jobs=-1)]: Done 357 tasks      | elapsed: 16.6min\n",
      "[Parallel(n_jobs=-1)]: Done 640 tasks      | elapsed: 28.0min\n",
      "[Parallel(n_jobs=-1)]: Done 750 out of 750 | elapsed: 32.3min finished\n"
     ]
    },
    {
     "data": {
      "text/plain": [
       "GridSearchCV(cv=10, estimator=RandomForestClassifier(), n_jobs=-1,\n",
       "             param_grid={'criterion': ['gini'], 'max_depth': [340],\n",
       "                         'max_features': ['sqrt'],\n",
       "                         'min_samples_leaf': [1, 3, 5],\n",
       "                         'min_samples_split': [12, 13, 14, 15, 16],\n",
       "                         'n_estimators': [1800, 1900, 2000, 2100, 2200]},\n",
       "             verbose=2)"
      ]
     },
     "execution_count": 44,
     "metadata": {},
     "output_type": "execute_result"
    }
   ],
   "source": [
    "#### Fit the grid_search to the data\n",
    "rf=RandomForestClassifier()\n",
    "grid_search=GridSearchCV(estimator=rf,param_grid=param_grid,cv=10,n_jobs=-1,verbose=2)\n",
    "grid_search.fit(X_train,y_train)"
   ]
  },
  {
   "cell_type": "code",
   "execution_count": 45,
   "metadata": {},
   "outputs": [
    {
     "data": {
      "text/plain": [
       "RandomForestClassifier(max_depth=340, max_features='sqrt', min_samples_split=14,\n",
       "                       n_estimators=2200)"
      ]
     },
     "execution_count": 45,
     "metadata": {},
     "output_type": "execute_result"
    }
   ],
   "source": [
    "grid_search.best_estimator_"
   ]
  },
  {
   "cell_type": "code",
   "execution_count": 46,
   "metadata": {},
   "outputs": [],
   "source": [
    "best_grid=grid_search.best_estimator_"
   ]
  },
  {
   "cell_type": "code",
   "execution_count": 47,
   "metadata": {},
   "outputs": [
    {
     "data": {
      "text/plain": [
       "RandomForestClassifier(max_depth=340, max_features='sqrt', min_samples_split=14,\n",
       "                       n_estimators=2200)"
      ]
     },
     "execution_count": 47,
     "metadata": {},
     "output_type": "execute_result"
    }
   ],
   "source": [
    "best_grid"
   ]
  },
  {
   "cell_type": "code",
   "execution_count": 48,
   "metadata": {},
   "outputs": [
    {
     "name": "stdout",
     "output_type": "stream",
     "text": [
      "[[92 15]\n",
      " [23 24]]\n",
      "Accuracy Score 0.7532467532467533\n",
      "Classification report:               precision    recall  f1-score   support\n",
      "\n",
      "           0       0.80      0.86      0.83       107\n",
      "           1       0.62      0.51      0.56        47\n",
      "\n",
      "    accuracy                           0.75       154\n",
      "   macro avg       0.71      0.69      0.69       154\n",
      "weighted avg       0.74      0.75      0.75       154\n",
      "\n"
     ]
    }
   ],
   "source": [
    "y_pred=best_grid.predict(X_test)\n",
    "print(confusion_matrix(y_test,y_pred))\n",
    "print(\"Accuracy Score {}\".format(accuracy_score(y_test,y_pred)))\n",
    "print(\"Classification report: {}\".format(classification_report(y_test,y_pred)))\n"
   ]
  },
  {
   "cell_type": "markdown",
   "metadata": {},
   "source": [
    "Automated Hyperparameter Tuning\n",
    "\n",
    "Automated Hyperparameter Tuning can be done by using techniques such as\n",
    "\n",
    "#Bayesian Optimization\n",
    "#Gradient Descent\n",
    "#Evolutionary Algorithms\n",
    "#Bayesian Optimization\n",
    "#Bayesian optimization \n",
    "uses probability to find the minimum of a function. The final aim is to find the input value to a function which can gives us the lowest possible output value.It usually performs better than random,grid and manual search providing better performance in the testing phase and reduced optimization time. In Hyperopt, Bayesian Optimization can be implemented giving 3 three main parameters to the function fmin.\n",
    "\n",
    "#Objective Function = defines the loss function to minimize.\n",
    "#Domain Space = defines the range of input values to test (in Bayesian Optimization this space creates a probability distribution for each of the used Hyperparameters).\n",
    "#Optimization Algorithm = defines the search algorithm to use to select the best input values to use in each new iteration."
   ]
  },
  {
   "cell_type": "code",
   "execution_count": 50,
   "metadata": {},
   "outputs": [],
   "source": [
    "from hyperopt import hp,fmin,tpe,STATUS_OK,Trials"
   ]
  },
  {
   "cell_type": "code",
   "execution_count": 51,
   "metadata": {},
   "outputs": [],
   "source": [
    "space = {'criterion': hp.choice('criterion', ['entropy', 'gini']),\n",
    "        'max_depth': hp.quniform('max_depth', 10, 1200, 10),\n",
    "        'max_features': hp.choice('max_features', ['auto', 'sqrt','log2', None]),\n",
    "        'min_samples_leaf': hp.uniform('min_samples_leaf', 0, 0.5),\n",
    "        'min_samples_split' : hp.uniform ('min_samples_split', 0, 1),\n",
    "        'n_estimators' : hp.choice('n_estimators', [10, 50, 300, 750, 1200,1300,1500])\n",
    "    }\n"
   ]
  },
  {
   "cell_type": "code",
   "execution_count": 52,
   "metadata": {},
   "outputs": [
    {
     "data": {
      "text/plain": [
       "{'criterion': <hyperopt.pyll.base.Apply at 0x1ce313f4a00>,\n",
       " 'max_depth': <hyperopt.pyll.base.Apply at 0x1ce313f4d60>,\n",
       " 'max_features': <hyperopt.pyll.base.Apply at 0x1ce313f4760>,\n",
       " 'min_samples_leaf': <hyperopt.pyll.base.Apply at 0x1ce313f44c0>,\n",
       " 'min_samples_split': <hyperopt.pyll.base.Apply at 0x1ce313f4340>,\n",
       " 'n_estimators': <hyperopt.pyll.base.Apply at 0x1ce313f4400>}"
      ]
     },
     "execution_count": 52,
     "metadata": {},
     "output_type": "execute_result"
    }
   ],
   "source": [
    "space"
   ]
  },
  {
   "cell_type": "code",
   "execution_count": 53,
   "metadata": {},
   "outputs": [],
   "source": [
    "def objective(space):\n",
    "    model = RandomForestClassifier(criterion = space['criterion'], max_depth = space['max_depth'],\n",
    "                                 max_features = space['max_features'],\n",
    "                                 min_samples_leaf = space['min_samples_leaf'],\n",
    "                                 min_samples_split = space['min_samples_split'],\n",
    "                                 n_estimators = space['n_estimators'], \n",
    "                                 )\n",
    "    \n",
    "    accuracy = cross_val_score(model, X_train, y_train, cv = 5).mean()\n",
    "\n",
    "    # We aim to maximize accuracy, therefore we return it as a negative value\n",
    "    return {'loss': -accuracy, 'status': STATUS_OK }"
   ]
  },
  {
   "cell_type": "code",
   "execution_count": 54,
   "metadata": {},
   "outputs": [
    {
     "name": "stdout",
     "output_type": "stream",
     "text": [
      "100%|███████████████████████████████████████████████| 80/80 [12:10<00:00,  9.13s/trial, best loss: -0.7230974276955885]\n"
     ]
    }
   ],
   "source": [
    "from sklearn.model_selection import cross_val_score\n",
    "trials = Trials()\n",
    "best = fmin(fn= objective,\n",
    "            space= space,\n",
    "            algo= tpe.suggest,\n",
    "            max_evals = 80,\n",
    "            trials= trials)\n"
   ]
  },
  {
   "cell_type": "code",
   "execution_count": 55,
   "metadata": {},
   "outputs": [
    {
     "data": {
      "text/plain": [
       "{'criterion': 1,\n",
       " 'max_depth': 70.0,\n",
       " 'max_features': 3,\n",
       " 'min_samples_leaf': 9.425405483226741e-05,\n",
       " 'min_samples_split': 0.20553443308741334,\n",
       " 'n_estimators': 6}"
      ]
     },
     "execution_count": 55,
     "metadata": {},
     "output_type": "execute_result"
    }
   ],
   "source": [
    "best"
   ]
  },
  {
   "cell_type": "code",
   "execution_count": 56,
   "metadata": {},
   "outputs": [
    {
     "name": "stdout",
     "output_type": "stream",
     "text": [
      "gini\n",
      "None\n",
      "1500\n"
     ]
    }
   ],
   "source": [
    "crit = {0: 'entropy', 1: 'gini'}\n",
    "feat = {0: 'auto', 1: 'sqrt', 2: 'log2', 3: None}\n",
    "est = {0: 10, 1: 50, 2: 300, 3: 750, 4: 1200,5:1300,6:1500}\n",
    "\n",
    "\n",
    "print(crit[best['criterion']])\n",
    "print(feat[best['max_features']])\n",
    "print(est[best['n_estimators']])"
   ]
  },
  {
   "cell_type": "code",
   "execution_count": 57,
   "metadata": {},
   "outputs": [
    {
     "data": {
      "text/plain": [
       "9.425405483226741e-05"
      ]
     },
     "execution_count": 57,
     "metadata": {},
     "output_type": "execute_result"
    }
   ],
   "source": [
    "\n",
    "best['min_samples_leaf']"
   ]
  },
  {
   "cell_type": "code",
   "execution_count": 58,
   "metadata": {},
   "outputs": [
    {
     "name": "stdout",
     "output_type": "stream",
     "text": [
      "[[89 18]\n",
      " [26 21]]\n",
      "0.7142857142857143\n",
      "              precision    recall  f1-score   support\n",
      "\n",
      "           0       0.77      0.83      0.80       107\n",
      "           1       0.54      0.45      0.49        47\n",
      "\n",
      "    accuracy                           0.71       154\n",
      "   macro avg       0.66      0.64      0.65       154\n",
      "weighted avg       0.70      0.71      0.71       154\n",
      "\n"
     ]
    }
   ],
   "source": [
    "\n",
    "trainedforest = RandomForestClassifier(criterion = crit[best['criterion']], max_depth = best['max_depth'], \n",
    "                                       max_features = feat[best['max_features']], \n",
    "                                       min_samples_leaf = best['min_samples_leaf'], \n",
    "                                       min_samples_split = best['min_samples_split'], \n",
    "                                       n_estimators = est[best['n_estimators']]).fit(X_train,y_train)\n",
    "predictionforest = trainedforest.predict(X_test)\n",
    "print(confusion_matrix(y_test,predictionforest))\n",
    "print(accuracy_score(y_test,predictionforest))\n",
    "print(classification_report(y_test,predictionforest))\n",
    "acc5 = accuracy_score(y_test,predictionforest)"
   ]
  },
  {
   "cell_type": "markdown",
   "metadata": {},
   "source": [
    "# Genetic Algorithms\n",
    "\n",
    "Genetic Algorithms tries to apply natural selection mechanisms to Machine Learning contexts.\n",
    "\n",
    "Let's immagine we create a population of N Machine Learning models with some predifined Hyperparameters. We can then calculate the accuracy of each model and decide to keep just half of the models (the ones that performs best). We can now generate some offsprings having similar Hyperparameters to the ones of the best models so that go get again a population of N models. At this point we can again caltulate the accuracy of each model and repeate the cycle for a defined number of generations. In this way, just the best models will survive at the end of the process."
   ]
  },
  {
   "cell_type": "code",
   "execution_count": 59,
   "metadata": {},
   "outputs": [
    {
     "name": "stdout",
     "output_type": "stream",
     "text": [
      "{'n_estimators': [200, 400, 600, 800, 1000, 1200, 1400, 1600, 1800, 2000], 'max_features': ['auto', 'sqrt', 'log2'], 'max_depth': [10, 120, 230, 340, 450, 560, 670, 780, 890, 1000], 'min_samples_split': [2, 5, 10, 14], 'min_samples_leaf': [1, 2, 4, 6, 8], 'criterion': ['entropy', 'gini']}\n"
     ]
    }
   ],
   "source": [
    "import numpy as np\n",
    "from sklearn.model_selection import RandomizedSearchCV\n",
    "# Number of trees in random forest\n",
    "n_estimators = [int(x) for x in np.linspace(start = 200, stop = 2000, num = 10)]\n",
    "# Number of features to consider at every split\n",
    "max_features = ['auto', 'sqrt','log2']\n",
    "# Maximum number of levels in tree\n",
    "max_depth = [int(x) for x in np.linspace(10, 1000,10)]\n",
    "# Minimum number of samples required to split a node\n",
    "min_samples_split = [2, 5, 10,14]\n",
    "# Minimum number of samples required at each leaf node\n",
    "min_samples_leaf = [1, 2, 4,6,8]\n",
    "# Create the random grid\n",
    "param = {'n_estimators': n_estimators,\n",
    "               'max_features': max_features,\n",
    "               'max_depth': max_depth,\n",
    "               'min_samples_split': min_samples_split,\n",
    "               'min_samples_leaf': min_samples_leaf,\n",
    "              'criterion':['entropy','gini']}\n",
    "print(param)"
   ]
  },
  {
   "cell_type": "code",
   "execution_count": 61,
   "metadata": {},
   "outputs": [
    {
     "data": {
      "application/vnd.jupyter.widget-view+json": {
       "model_id": "",
       "version_major": 2,
       "version_minor": 0
      },
      "text/plain": [
       "HBox(children=(FloatProgress(value=0.0, description='Optimization Progress', max=84.0, style=ProgressStyle(des…"
      ]
     },
     "metadata": {},
     "output_type": "display_data"
    },
    {
     "name": "stdout",
     "output_type": "stream",
     "text": [
      "\n",
      "Generation 1 - Current best internal CV score: 0.7051714625244037"
     ]
    },
    {
     "name": "stderr",
     "output_type": "stream",
     "text": [
      "Exception ignored in: <function WeakSet.__init__.<locals>._remove at 0x000001CE255244C0>\n",
      "Traceback (most recent call last):\n",
      "  File \"C:\\Users\\PALLAW-PC\\anaconda3\\lib\\_weakrefset.py\", line 38, in _remove\n",
      "    def _remove(item, selfref=ref(self)):\n",
      "stopit.utils.TimeoutException: \n"
     ]
    },
    {
     "name": "stdout",
     "output_type": "stream",
     "text": [
      "\n",
      "Generation 2 - Current best internal CV score: 0.7051714625244037\n",
      "Generation 3 - Current best internal CV score: 0.7051714625244037\n",
      "Generation 4 - Current best internal CV score: 0.7051714625244037\n",
      "Generation 5 - Current best internal CV score: 0.7067948391477803\n",
      "Best pipeline: RandomForestClassifier(CombineDFs(input_matrix, input_matrix), criterion=gini, max_depth=560, max_features=auto, min_samples_leaf=6, min_samples_split=14, n_estimators=200)\n"
     ]
    },
    {
     "data": {
      "text/plain": [
       "TPOTClassifier(config_dict={'sklearn.ensemble.RandomForestClassifier': {'criterion': ['entropy',\n",
       "                                                                                      'gini'],\n",
       "                                                                        'max_depth': [10,\n",
       "                                                                                      120,\n",
       "                                                                                      230,\n",
       "                                                                                      340,\n",
       "                                                                                      450,\n",
       "                                                                                      560,\n",
       "                                                                                      670,\n",
       "                                                                                      780,\n",
       "                                                                                      890,\n",
       "                                                                                      1000],\n",
       "                                                                        'max_features': ['auto',\n",
       "                                                                                         'sqrt',\n",
       "                                                                                         'log2'],\n",
       "                                                                        'min_samples_leaf': [1,\n",
       "                                                                                             2,\n",
       "                                                                                             4,\n",
       "                                                                                             6,\n",
       "                                                                                             8],\n",
       "                                                                        'min_samples_split': [2,\n",
       "                                                                                              5,\n",
       "                                                                                              10,\n",
       "                                                                                              14],\n",
       "                                                                        'n_estimators': [200,\n",
       "                                                                                         400,\n",
       "                                                                                         600,\n",
       "                                                                                         800,\n",
       "                                                                                         1000,\n",
       "                                                                                         1200,\n",
       "                                                                                         1400,\n",
       "                                                                                         1600,\n",
       "                                                                                         1800,\n",
       "                                                                                         2000]}},\n",
       "               cv=4, early_stop=12, generations=5,\n",
       "               log_file=<ipykernel.iostream.OutStream object at 0x000001CE290B2040>,\n",
       "               offspring_size=12, population_size=24, scoring='accuracy',\n",
       "               verbosity=2)"
      ]
     },
     "execution_count": 61,
     "metadata": {},
     "output_type": "execute_result"
    }
   ],
   "source": [
    "from tpot import TPOTClassifier\n",
    "\n",
    "\n",
    "tpot_classifier = TPOTClassifier(generations= 5, population_size= 24, offspring_size= 12,\n",
    "                                 verbosity= 2, early_stop= 12,\n",
    "                                 config_dict={'sklearn.ensemble.RandomForestClassifier': param}, \n",
    "                                 cv = 4, scoring = 'accuracy')\n",
    "tpot_classifier.fit(X_train,y_train)"
   ]
  },
  {
   "cell_type": "code",
   "execution_count": 62,
   "metadata": {},
   "outputs": [
    {
     "name": "stdout",
     "output_type": "stream",
     "text": [
      "0.7532467532467533\n"
     ]
    }
   ],
   "source": [
    "accuracy = tpot_classifier.score(X_test, y_test)\n",
    "print(accuracy)"
   ]
  },
  {
   "cell_type": "markdown",
   "metadata": {},
   "source": [
    "# Optimize hyperparameters of the model using Optuna\n",
    "The hyperparameters of the above algorithm are n_estimators and max_depth for which we can try different values to see if the model accuracy can be improved. The objective function is modified to accept a trial object. This trial has several methods for sampling hyperparameters. We create a study to run the hyperparameter optimization and finally read the best hyperparameters."
   ]
  },
  {
   "cell_type": "code",
   "execution_count": 64,
   "metadata": {},
   "outputs": [],
   "source": [
    "\n",
    "import optuna\n",
    "import sklearn.svm\n",
    "def objective(trial):\n",
    "\n",
    "    classifier = trial.suggest_categorical('classifier', ['RandomForest', 'SVC'])\n",
    "    \n",
    "    if classifier == 'RandomForest':\n",
    "        n_estimators = trial.suggest_int('n_estimators', 200, 2000,10)\n",
    "        max_depth = int(trial.suggest_float('max_depth', 10, 100, log=True))\n",
    "\n",
    "        clf = sklearn.ensemble.RandomForestClassifier(\n",
    "            n_estimators=n_estimators, max_depth=max_depth)\n",
    "    else:\n",
    "        c = trial.suggest_float('svc_c', 1e-10, 1e10, log=True)\n",
    "        \n",
    "        clf = sklearn.svm.SVC(C=c, gamma='auto')\n",
    "\n",
    "    return sklearn.model_selection.cross_val_score(\n",
    "        clf,X_train,y_train, n_jobs=-1, cv=3).mean()"
   ]
  },
  {
   "cell_type": "code",
   "execution_count": 65,
   "metadata": {},
   "outputs": [
    {
     "name": "stderr",
     "output_type": "stream",
     "text": [
      "[I 2020-09-06 05:18:50,794] Trial 0 finished with value: 0.6384425314841384 and parameters: {'classifier': 'SVC', 'svc_c': 1051.6900132898652}. Best is trial 0 with value: 0.6384425314841384.\n",
      "[I 2020-09-06 05:18:53,428] Trial 1 finished with value: 0.6384425314841384 and parameters: {'classifier': 'SVC', 'svc_c': 74604033.66884477}. Best is trial 0 with value: 0.6384425314841384.\n",
      "[I 2020-09-06 05:18:56,992] Trial 2 finished with value: 0.6824007651841223 and parameters: {'classifier': 'RandomForest', 'n_estimators': 740, 'max_depth': 22.13807912611403}. Best is trial 2 with value: 0.6824007651841223.\n",
      "[I 2020-09-06 05:19:01,122] Trial 3 finished with value: 0.6905228758169933 and parameters: {'classifier': 'RandomForest', 'n_estimators': 1120, 'max_depth': 97.781621451631}. Best is trial 3 with value: 0.6905228758169933.\n",
      "[I 2020-09-06 05:19:03,162] Trial 4 finished with value: 0.6937988203411445 and parameters: {'classifier': 'RandomForest', 'n_estimators': 580, 'max_depth': 43.165656655268485}. Best is trial 4 with value: 0.6937988203411445.\n",
      "[I 2020-09-06 05:19:03,234] Trial 5 finished with value: 0.640068547744301 and parameters: {'classifier': 'SVC', 'svc_c': 0.20503335973577175}. Best is trial 4 with value: 0.6937988203411445.\n",
      "[I 2020-09-06 05:19:04,657] Trial 6 finished with value: 0.695424836601307 and parameters: {'classifier': 'RandomForest', 'n_estimators': 400, 'max_depth': 11.944017597894154}. Best is trial 6 with value: 0.695424836601307.\n",
      "[I 2020-09-06 05:19:08,286] Trial 7 finished with value: 0.6823927945161804 and parameters: {'classifier': 'RandomForest', 'n_estimators': 1080, 'max_depth': 59.1768254460022}. Best is trial 6 with value: 0.695424836601307.\n",
      "[I 2020-09-06 05:19:08,359] Trial 8 finished with value: 0.640068547744301 and parameters: {'classifier': 'SVC', 'svc_c': 0.007534583138072693}. Best is trial 6 with value: 0.695424836601307.\n",
      "[I 2020-09-06 05:19:12,675] Trial 9 finished with value: 0.6921728040809819 and parameters: {'classifier': 'RandomForest', 'n_estimators': 1290, 'max_depth': 76.16244468048303}. Best is trial 6 with value: 0.695424836601307.\n",
      "[I 2020-09-06 05:19:13,545] Trial 10 finished with value: 0.6872867846325521 and parameters: {'classifier': 'RandomForest', 'n_estimators': 210, 'max_depth': 11.82881239330556}. Best is trial 6 with value: 0.695424836601307.\n",
      "[I 2020-09-06 05:19:14,536] Trial 11 finished with value: 0.6937988203411445 and parameters: {'classifier': 'RandomForest', 'n_estimators': 270, 'max_depth': 35.726873252070746}. Best is trial 6 with value: 0.695424836601307.\n",
      "[I 2020-09-06 05:19:21,147] Trial 12 finished with value: 0.6921728040809819 and parameters: {'classifier': 'RandomForest', 'n_estimators': 1940, 'max_depth': 10.469965306092343}. Best is trial 6 with value: 0.695424836601307.\n",
      "[I 2020-09-06 05:19:23,119] Trial 13 finished with value: 0.6791407619958553 and parameters: {'classifier': 'RandomForest', 'n_estimators': 560, 'max_depth': 36.11343048782545}. Best is trial 6 with value: 0.695424836601307.\n",
      "[I 2020-09-06 05:19:25,234] Trial 14 finished with value: 0.6872628726287262 and parameters: {'classifier': 'RandomForest', 'n_estimators': 580, 'max_depth': 18.236826587366615}. Best is trial 6 with value: 0.695424836601307.\n",
      "[I 2020-09-06 05:19:26,182] Trial 15 finished with value: 0.6921568627450979 and parameters: {'classifier': 'RandomForest', 'n_estimators': 250, 'max_depth': 48.82758005652852}. Best is trial 6 with value: 0.695424836601307.\n",
      "[I 2020-09-06 05:19:29,420] Trial 16 finished with value: 0.6905308464849353 and parameters: {'classifier': 'RandomForest', 'n_estimators': 780, 'max_depth': 22.449018094096207}. Best is trial 6 with value: 0.695424836601307.\n",
      "[I 2020-09-06 05:19:31,386] Trial 17 finished with value: 0.6986688984536903 and parameters: {'classifier': 'RandomForest', 'n_estimators': 470, 'max_depth': 14.298181859180815}. Best is trial 17 with value: 0.6986688984536903.\n",
      "[I 2020-09-06 05:19:37,989] Trial 18 finished with value: 0.6905467878208192 and parameters: {'classifier': 'RandomForest', 'n_estimators': 1680, 'max_depth': 13.95240685072787}. Best is trial 17 with value: 0.6986688984536903.\n",
      "[I 2020-09-06 05:19:39,613] Trial 19 finished with value: 0.6954088952654232 and parameters: {'classifier': 'RandomForest', 'n_estimators': 400, 'max_depth': 15.78027947534528}. Best is trial 17 with value: 0.6986688984536903.\n",
      "[I 2020-09-06 05:19:43,076] Trial 20 finished with value: 0.6921568627450979 and parameters: {'classifier': 'RandomForest', 'n_estimators': 900, 'max_depth': 10.252698495858368}. Best is trial 17 with value: 0.6986688984536903.\n",
      "[I 2020-09-06 05:19:44,702] Trial 21 finished with value: 0.6905388171528773 and parameters: {'classifier': 'RandomForest', 'n_estimators': 410, 'max_depth': 15.192359976630172}. Best is trial 17 with value: 0.6986688984536903.\n",
      "[I 2020-09-06 05:19:46,374] Trial 22 finished with value: 0.6889207715606567 and parameters: {'classifier': 'RandomForest', 'n_estimators': 410, 'max_depth': 23.05273433653521}. Best is trial 17 with value: 0.6986688984536903.\n",
      "[I 2020-09-06 05:19:47,867] Trial 23 finished with value: 0.6872788139646101 and parameters: {'classifier': 'RandomForest', 'n_estimators': 380, 'max_depth': 13.78493787095381}. Best is trial 17 with value: 0.6986688984536903.\n",
      "[I 2020-09-06 05:19:48,713] Trial 24 finished with value: 0.6937828790052606 and parameters: {'classifier': 'RandomForest', 'n_estimators': 200, 'max_depth': 17.33588169349525}. Best is trial 17 with value: 0.6986688984536903.\n",
      "[I 2020-09-06 05:19:51,483] Trial 25 finished with value: 0.6970428821935277 and parameters: {'classifier': 'RandomForest', 'n_estimators': 720, 'max_depth': 11.762930027284366}. Best is trial 17 with value: 0.6986688984536903.\n",
      "[I 2020-09-06 05:19:54,439] Trial 26 finished with value: 0.6872708432966682 and parameters: {'classifier': 'RandomForest', 'n_estimators': 750, 'max_depth': 12.277280693624606}. Best is trial 17 with value: 0.6986688984536903.\n",
      "[I 2020-09-06 05:19:54,510] Trial 27 finished with value: 0.640068547744301 and parameters: {'classifier': 'SVC', 'svc_c': 1.2227238921300178e-08}. Best is trial 17 with value: 0.6986688984536903.\n",
      "[I 2020-09-06 05:19:58,218] Trial 28 finished with value: 0.7035549179021201 and parameters: {'classifier': 'RandomForest', 'n_estimators': 960, 'max_depth': 10.0015244706179}. Best is trial 28 with value: 0.7035549179021201.\n",
      "[I 2020-09-06 05:19:58,273] Trial 29 finished with value: 0.640068547744301 and parameters: {'classifier': 'SVC', 'svc_c': 2.2489162095690457e-10}. Best is trial 28 with value: 0.7035549179021201.\n",
      "[I 2020-09-06 05:20:03,499] Trial 30 finished with value: 0.6970428821935277 and parameters: {'classifier': 'RandomForest', 'n_estimators': 1360, 'max_depth': 10.399758586179532}. Best is trial 28 with value: 0.7035549179021201.\n",
      "[I 2020-09-06 05:20:09,650] Trial 31 finished with value: 0.6954168659333652 and parameters: {'classifier': 'RandomForest', 'n_estimators': 1240, 'max_depth': 10.75137765117349}. Best is trial 28 with value: 0.7035549179021201.\n",
      "[I 2020-09-06 05:20:15,164] Trial 32 finished with value: 0.6856527977044475 and parameters: {'classifier': 'RandomForest', 'n_estimators': 1420, 'max_depth': 10.28156453077254}. Best is trial 28 with value: 0.7035549179021201.\n",
      "[I 2020-09-06 05:20:19,047] Trial 33 finished with value: 0.6937908496732025 and parameters: {'classifier': 'RandomForest', 'n_estimators': 1020, 'max_depth': 10.083078541504154}. Best is trial 28 with value: 0.7035549179021201.\n",
      "[I 2020-09-06 05:20:24,688] Trial 34 finished with value: 0.6937988203411445 and parameters: {'classifier': 'RandomForest', 'n_estimators': 1470, 'max_depth': 12.951515027481797}. Best is trial 28 with value: 0.7035549179021201.\n",
      "[I 2020-09-06 05:20:28,038] Trial 35 finished with value: 0.684026781444285 and parameters: {'classifier': 'RandomForest', 'n_estimators': 860, 'max_depth': 18.90376672817056}. Best is trial 28 with value: 0.7035549179021201.\n",
      "[I 2020-09-06 05:20:28,128] Trial 36 finished with value: 0.6384425314841384 and parameters: {'classifier': 'SVC', 'svc_c': 2307125213.851509}. Best is trial 28 with value: 0.7035549179021201.\n",
      "[I 2020-09-06 05:20:31,789] Trial 37 finished with value: 0.7003028853817949 and parameters: {'classifier': 'RandomForest', 'n_estimators': 950, 'max_depth': 29.689697056528324}. Best is trial 28 with value: 0.7035549179021201.\n",
      "[I 2020-09-06 05:20:36,882] Trial 38 finished with value: 0.6905308464849353 and parameters: {'classifier': 'RandomForest', 'n_estimators': 1230, 'max_depth': 27.42779079570842}. Best is trial 28 with value: 0.7035549179021201.\n",
      "[I 2020-09-06 05:20:43,672] Trial 39 finished with value: 0.6889128008927147 and parameters: {'classifier': 'RandomForest', 'n_estimators': 1630, 'max_depth': 31.568035138812128}. Best is trial 28 with value: 0.7035549179021201.\n",
      "[I 2020-09-06 05:20:46,210] Trial 40 finished with value: 0.6889128008927147 and parameters: {'classifier': 'RandomForest', 'n_estimators': 650, 'max_depth': 26.100911388157144}. Best is trial 28 with value: 0.7035549179021201.\n",
      "[I 2020-09-06 05:20:50,030] Trial 41 finished with value: 0.6889207715606567 and parameters: {'classifier': 'RandomForest', 'n_estimators': 980, 'max_depth': 15.327745187240836}. Best is trial 28 with value: 0.7035549179021201.\n",
      "[I 2020-09-06 05:20:53,723] Trial 42 finished with value: 0.6937908496732025 and parameters: {'classifier': 'RandomForest', 'n_estimators': 890, 'max_depth': 11.526050681705454}. Best is trial 28 with value: 0.7035549179021201.\n",
      "[I 2020-09-06 05:20:58,667] Trial 43 finished with value: 0.6937908496732025 and parameters: {'classifier': 'RandomForest', 'n_estimators': 1140, 'max_depth': 20.03710039296865}. Best is trial 28 with value: 0.7035549179021201.\n",
      "[I 2020-09-06 05:21:01,885] Trial 44 finished with value: 0.6921648334130399 and parameters: {'classifier': 'RandomForest', 'n_estimators': 740, 'max_depth': 67.77536189453038}. Best is trial 28 with value: 0.7035549179021201.\n",
      "[I 2020-09-06 05:21:04,603] Trial 45 finished with value: 0.6824087358520644 and parameters: {'classifier': 'RandomForest', 'n_estimators': 640, 'max_depth': 12.247630286261911}. Best is trial 28 with value: 0.7035549179021201.\n",
      "[I 2020-09-06 05:21:04,667] Trial 46 finished with value: 0.640068547744301 and parameters: {'classifier': 'SVC', 'svc_c': 4.304596965460484e-06}. Best is trial 28 with value: 0.7035549179021201.\n",
      "[I 2020-09-06 05:21:09,237] Trial 47 finished with value: 0.6921807747489238 and parameters: {'classifier': 'RandomForest', 'n_estimators': 1100, 'max_depth': 92.87552513044504}. Best is trial 28 with value: 0.7035549179021201.\n",
      "[I 2020-09-06 05:21:14,667] Trial 48 finished with value: 0.6921728040809819 and parameters: {'classifier': 'RandomForest', 'n_estimators': 1380, 'max_depth': 13.575983906542175}. Best is trial 28 with value: 0.7035549179021201.\n",
      "[I 2020-09-06 05:21:18,554] Trial 49 finished with value: 0.6889128008927147 and parameters: {'classifier': 'RandomForest', 'n_estimators': 940, 'max_depth': 51.678625938287105}. Best is trial 28 with value: 0.7035549179021201.\n",
      "[I 2020-09-06 05:21:22,365] Trial 50 finished with value: 0.684018810776343 and parameters: {'classifier': 'RandomForest', 'n_estimators': 830, 'max_depth': 11.298554565130162}. Best is trial 28 with value: 0.7035549179021201.\n",
      "[I 2020-09-06 05:21:24,614] Trial 51 finished with value: 0.6937908496732025 and parameters: {'classifier': 'RandomForest', 'n_estimators': 510, 'max_depth': 11.285845054407373}. Best is trial 28 with value: 0.7035549179021201.\n",
      "[I 2020-09-06 05:21:26,966] Trial 52 finished with value: 0.6954088952654232 and parameters: {'classifier': 'RandomForest', 'n_estimators': 500, 'max_depth': 16.633297418361405}. Best is trial 28 with value: 0.7035549179021201.\n",
      "[I 2020-09-06 05:21:30,503] Trial 53 finished with value: 0.684018810776343 and parameters: {'classifier': 'RandomForest', 'n_estimators': 690, 'max_depth': 14.42661874731217}. Best is trial 28 with value: 0.7035549179021201.\n",
      "[I 2020-09-06 05:21:35,334] Trial 54 finished with value: 0.6872788139646101 and parameters: {'classifier': 'RandomForest', 'n_estimators': 1050, 'max_depth': 40.7505719940278}. Best is trial 28 with value: 0.7035549179021201.\n",
      "[I 2020-09-06 05:21:36,993] Trial 55 finished with value: 0.6970588235294116 and parameters: {'classifier': 'RandomForest', 'n_estimators': 320, 'max_depth': 12.523197309019434}. Best is trial 28 with value: 0.7035549179021201.\n",
      "[I 2020-09-06 05:21:41,613] Trial 56 finished with value: 0.6889207715606567 and parameters: {'classifier': 'RandomForest', 'n_estimators': 1180, 'max_depth': 10.046475601638534}. Best is trial 28 with value: 0.7035549179021201.\n",
      "[I 2020-09-06 05:21:42,882] Trial 57 finished with value: 0.6889128008927147 and parameters: {'classifier': 'RandomForest', 'n_estimators': 320, 'max_depth': 12.93543449008784}. Best is trial 28 with value: 0.7035549179021201.\n",
      "[I 2020-09-06 05:21:44,840] Trial 58 finished with value: 0.695432807269249 and parameters: {'classifier': 'RandomForest', 'n_estimators': 500, 'max_depth': 20.504544557628122}. Best is trial 28 with value: 0.7035549179021201.\n",
      "[I 2020-09-06 05:21:47,138] Trial 59 finished with value: 0.6856448270365055 and parameters: {'classifier': 'RandomForest', 'n_estimators': 590, 'max_depth': 12.374082151674234}. Best is trial 28 with value: 0.7035549179021201.\n",
      "[I 2020-09-06 05:21:54,280] Trial 60 finished with value: 0.6921648334130399 and parameters: {'classifier': 'RandomForest', 'n_estimators': 1610, 'max_depth': 11.08742553203894}. Best is trial 28 with value: 0.7035549179021201.\n",
      "[I 2020-09-06 05:21:56,197] Trial 61 finished with value: 0.6856288857006216 and parameters: {'classifier': 'RandomForest', 'n_estimators': 480, 'max_depth': 24.328197751688386}. Best is trial 28 with value: 0.7035549179021201.\n",
      "[I 2020-09-06 05:21:57,399] Trial 62 finished with value: 0.6823848238482384 and parameters: {'classifier': 'RandomForest', 'n_estimators': 290, 'max_depth': 21.193603156374973}. Best is trial 28 with value: 0.7035549179021201.\n",
      "[I 2020-09-06 05:22:00,451] Trial 63 finished with value: 0.6905388171528773 and parameters: {'classifier': 'RandomForest', 'n_estimators': 770, 'max_depth': 33.657524449756764}. Best is trial 28 with value: 0.7035549179021201.\n",
      "[I 2020-09-06 05:22:01,780] Trial 64 finished with value: 0.6889287422285987 and parameters: {'classifier': 'RandomForest', 'n_estimators': 330, 'max_depth': 28.43347968368022}. Best is trial 28 with value: 0.7035549179021201.\n",
      "[I 2020-09-06 05:22:03,889] Trial 65 finished with value: 0.6889207715606567 and parameters: {'classifier': 'RandomForest', 'n_estimators': 540, 'max_depth': 14.708849752692302}. Best is trial 28 with value: 0.7035549179021201.\n",
      "[I 2020-09-06 05:22:07,731] Trial 66 finished with value: 0.6921648334130399 and parameters: {'classifier': 'RandomForest', 'n_estimators': 970, 'max_depth': 17.900386936454247}. Best is trial 28 with value: 0.7035549179021201.\n",
      "[I 2020-09-06 05:22:07,810] Trial 67 finished with value: 0.6384425314841384 and parameters: {'classifier': 'SVC', 'svc_c': 74064.52563071289}. Best is trial 28 with value: 0.7035549179021201.\n",
      "[I 2020-09-06 05:22:09,588] Trial 68 finished with value: 0.6921648334130399 and parameters: {'classifier': 'RandomForest', 'n_estimators': 450, 'max_depth': 16.50972449576363}. Best is trial 28 with value: 0.7035549179021201.\n",
      "[I 2020-09-06 05:22:10,578] Trial 69 finished with value: 0.6921568627450979 and parameters: {'classifier': 'RandomForest', 'n_estimators': 230, 'max_depth': 20.189953776871576}. Best is trial 28 with value: 0.7035549179021201.\n",
      "[I 2020-09-06 05:22:13,317] Trial 70 finished with value: 0.6889128008927147 and parameters: {'classifier': 'RandomForest', 'n_estimators': 690, 'max_depth': 13.289365784125158}. Best is trial 28 with value: 0.7035549179021201.\n",
      "[I 2020-09-06 05:22:15,441] Trial 71 finished with value: 0.6921568627450979 and parameters: {'classifier': 'RandomForest', 'n_estimators': 450, 'max_depth': 10.170750264648243}. Best is trial 28 with value: 0.7035549179021201.\n",
      "[I 2020-09-06 05:22:16,888] Trial 72 finished with value: 0.6888888888888888 and parameters: {'classifier': 'RandomForest', 'n_estimators': 350, 'max_depth': 11.868853466285389}. Best is trial 28 with value: 0.7035549179021201.\n"
     ]
    },
    {
     "name": "stderr",
     "output_type": "stream",
     "text": [
      "[I 2020-09-06 05:22:25,120] Trial 73 finished with value: 0.6970508528614697 and parameters: {'classifier': 'RandomForest', 'n_estimators': 1900, 'max_depth': 10.588840089581979}. Best is trial 28 with value: 0.7035549179021201.\n",
      "[I 2020-09-06 05:22:28,686] Trial 74 finished with value: 0.695424836601307 and parameters: {'classifier': 'RandomForest', 'n_estimators': 840, 'max_depth': 10.682041764285668}. Best is trial 28 with value: 0.7035549179021201.\n",
      "[I 2020-09-06 05:22:36,198] Trial 75 finished with value: 0.6905228758169933 and parameters: {'classifier': 'RandomForest', 'n_estimators': 1850, 'max_depth': 30.114145092615583}. Best is trial 28 with value: 0.7035549179021201.\n",
      "[I 2020-09-06 05:22:43,076] Trial 76 finished with value: 0.6872867846325521 and parameters: {'classifier': 'RandomForest', 'n_estimators': 1970, 'max_depth': 23.714510846278433}. Best is trial 28 with value: 0.7035549179021201.\n",
      "[I 2020-09-06 05:22:48,976] Trial 77 finished with value: 0.695424836601307 and parameters: {'classifier': 'RandomForest', 'n_estimators': 1760, 'max_depth': 12.870389952317423}. Best is trial 28 with value: 0.7035549179021201.\n",
      "[I 2020-09-06 05:22:51,063] Trial 78 finished with value: 0.6921568627450979 and parameters: {'classifier': 'RandomForest', 'n_estimators': 590, 'max_depth': 15.486811438171175}. Best is trial 28 with value: 0.7035549179021201.\n",
      "[I 2020-09-06 05:22:55,554] Trial 79 finished with value: 0.6921648334130399 and parameters: {'classifier': 'RandomForest', 'n_estimators': 1300, 'max_depth': 37.95799224288743}. Best is trial 28 with value: 0.7035549179021201.\n",
      "[I 2020-09-06 05:22:55,611] Trial 80 finished with value: 0.640068547744301 and parameters: {'classifier': 'SVC', 'svc_c': 8.120864988625947e-05}. Best is trial 28 with value: 0.7035549179021201.\n",
      "[I 2020-09-06 05:23:01,977] Trial 81 finished with value: 0.6921728040809819 and parameters: {'classifier': 'RandomForest', 'n_estimators': 1880, 'max_depth': 12.256922638678468}. Best is trial 28 with value: 0.7035549179021201.\n",
      "[I 2020-09-06 05:23:04,837] Trial 82 finished with value: 0.7019209309740155 and parameters: {'classifier': 'RandomForest', 'n_estimators': 840, 'max_depth': 10.608844092679176}. Best is trial 28 with value: 0.7035549179021201.\n",
      "[I 2020-09-06 05:23:07,899] Trial 83 finished with value: 0.692148892077156 and parameters: {'classifier': 'RandomForest', 'n_estimators': 930, 'max_depth': 10.851464740081445}. Best is trial 28 with value: 0.7035549179021201.\n",
      "[I 2020-09-06 05:23:11,430] Trial 84 finished with value: 0.6889048302247728 and parameters: {'classifier': 'RandomForest', 'n_estimators': 1020, 'max_depth': 14.024173959169076}. Best is trial 28 with value: 0.7035549179021201.\n",
      "[I 2020-09-06 05:23:14,183] Trial 85 finished with value: 0.6921648334130399 and parameters: {'classifier': 'RandomForest', 'n_estimators': 810, 'max_depth': 11.422300650837931}. Best is trial 28 with value: 0.7035549179021201.\n",
      "[I 2020-09-06 05:23:17,286] Trial 86 finished with value: 0.7019368723098994 and parameters: {'classifier': 'RandomForest', 'n_estimators': 900, 'max_depth': 10.40651542178171}. Best is trial 28 with value: 0.7035549179021201.\n",
      "[I 2020-09-06 05:23:20,321] Trial 87 finished with value: 0.6921648334130399 and parameters: {'classifier': 'RandomForest', 'n_estimators': 870, 'max_depth': 10.103602187999577}. Best is trial 28 with value: 0.7035549179021201.\n",
      "[I 2020-09-06 05:23:23,617] Trial 88 finished with value: 0.6937908496732025 and parameters: {'classifier': 'RandomForest', 'n_estimators': 1010, 'max_depth': 10.595651724393445}. Best is trial 28 with value: 0.7035549179021201.\n",
      "[I 2020-09-06 05:23:26,855] Trial 89 finished with value: 0.6905308464849353 and parameters: {'classifier': 'RandomForest', 'n_estimators': 950, 'max_depth': 10.06573480965443}. Best is trial 28 with value: 0.7035549179021201.\n",
      "[I 2020-09-06 05:23:29,269] Trial 90 finished with value: 0.6954168659333652 and parameters: {'classifier': 'RandomForest', 'n_estimators': 710, 'max_depth': 11.707872282136163}. Best is trial 28 with value: 0.7035549179021201.\n",
      "[I 2020-09-06 05:23:32,864] Trial 91 finished with value: 0.695424836601307 and parameters: {'classifier': 'RandomForest', 'n_estimators': 1070, 'max_depth': 12.69477894926951}. Best is trial 28 with value: 0.7035549179021201.\n",
      "[I 2020-09-06 05:23:36,113] Trial 92 finished with value: 0.6937988203411445 and parameters: {'classifier': 'RandomForest', 'n_estimators': 920, 'max_depth': 10.779151663218933}. Best is trial 28 with value: 0.7035549179021201.\n",
      "[I 2020-09-06 05:23:38,828] Trial 93 finished with value: 0.6937988203411445 and parameters: {'classifier': 'RandomForest', 'n_estimators': 810, 'max_depth': 11.954883312726341}. Best is trial 28 with value: 0.7035549179021201.\n",
      "[I 2020-09-06 05:23:42,775] Trial 94 finished with value: 0.6921728040809819 and parameters: {'classifier': 'RandomForest', 'n_estimators': 1150, 'max_depth': 13.687510200914167}. Best is trial 28 with value: 0.7035549179021201.\n",
      "[I 2020-09-06 05:23:44,985] Trial 95 finished with value: 0.6905228758169933 and parameters: {'classifier': 'RandomForest', 'n_estimators': 630, 'max_depth': 18.795818378947484}. Best is trial 28 with value: 0.7035549179021201.\n",
      "[I 2020-09-06 05:23:46,397] Trial 96 finished with value: 0.6986609277857484 and parameters: {'classifier': 'RandomForest', 'n_estimators': 410, 'max_depth': 10.011545914768602}. Best is trial 28 with value: 0.7035549179021201.\n",
      "[I 2020-09-06 05:23:49,515] Trial 97 finished with value: 0.6856607683723895 and parameters: {'classifier': 'RandomForest', 'n_estimators': 880, 'max_depth': 51.323718039153086}. Best is trial 28 with value: 0.7035549179021201.\n",
      "[I 2020-09-06 05:23:50,887] Trial 98 finished with value: 0.6856448270365055 and parameters: {'classifier': 'RandomForest', 'n_estimators': 390, 'max_depth': 10.817985933415894}. Best is trial 28 with value: 0.7035549179021201.\n",
      "[I 2020-09-06 05:23:56,126] Trial 99 finished with value: 0.6954168659333652 and parameters: {'classifier': 'RandomForest', 'n_estimators': 1510, 'max_depth': 10.035851684648373}. Best is trial 28 with value: 0.7035549179021201.\n"
     ]
    },
    {
     "name": "stdout",
     "output_type": "stream",
     "text": [
      "Accuracy: 0.7035549179021201\n",
      "Best hyperparameters: {'classifier': 'RandomForest', 'n_estimators': 960, 'max_depth': 10.0015244706179}\n"
     ]
    }
   ],
   "source": [
    "study = optuna.create_study(direction='maximize')\n",
    "study.optimize(objective, n_trials=100)\n",
    "\n",
    "trial = study.best_trial\n",
    "\n",
    "print('Accuracy: {}'.format(trial.value))\n",
    "print(\"Best hyperparameters: {}\".format(trial.params))"
   ]
  },
  {
   "cell_type": "code",
   "execution_count": 66,
   "metadata": {},
   "outputs": [
    {
     "data": {
      "text/plain": [
       "FrozenTrial(number=28, value=0.7035549179021201, datetime_start=datetime.datetime(2020, 9, 6, 5, 19, 54, 517166), datetime_complete=datetime.datetime(2020, 9, 6, 5, 19, 58, 217376), params={'classifier': 'RandomForest', 'n_estimators': 960, 'max_depth': 10.0015244706179}, distributions={'classifier': CategoricalDistribution(choices=('RandomForest', 'SVC')), 'n_estimators': IntUniformDistribution(high=2000, low=200, step=10), 'max_depth': LogUniformDistribution(high=100, low=10)}, user_attrs={}, system_attrs={}, intermediate_values={}, trial_id=28, state=TrialState.COMPLETE)"
      ]
     },
     "execution_count": 66,
     "metadata": {},
     "output_type": "execute_result"
    }
   ],
   "source": [
    "\n",
    "trial"
   ]
  },
  {
   "cell_type": "code",
   "execution_count": 67,
   "metadata": {},
   "outputs": [
    {
     "data": {
      "text/plain": [
       "{'classifier': 'RandomForest',\n",
       " 'n_estimators': 960,\n",
       " 'max_depth': 10.0015244706179}"
      ]
     },
     "execution_count": 67,
     "metadata": {},
     "output_type": "execute_result"
    }
   ],
   "source": [
    "study.best_params"
   ]
  },
  {
   "cell_type": "code",
   "execution_count": 68,
   "metadata": {},
   "outputs": [
    {
     "data": {
      "text/plain": [
       "RandomForestClassifier(max_depth=30, n_estimators=330)"
      ]
     },
     "execution_count": 68,
     "metadata": {},
     "output_type": "execute_result"
    }
   ],
   "source": [
    "rf=RandomForestClassifier(n_estimators=330,max_depth=30)\n",
    "rf.fit(X_train,y_train)"
   ]
  },
  {
   "cell_type": "code",
   "execution_count": 69,
   "metadata": {},
   "outputs": [
    {
     "name": "stdout",
     "output_type": "stream",
     "text": [
      "[[90 17]\n",
      " [25 22]]\n",
      "0.7272727272727273\n",
      "              precision    recall  f1-score   support\n",
      "\n",
      "           0       0.78      0.84      0.81       107\n",
      "           1       0.56      0.47      0.51        47\n",
      "\n",
      "    accuracy                           0.73       154\n",
      "   macro avg       0.67      0.65      0.66       154\n",
      "weighted avg       0.72      0.73      0.72       154\n",
      "\n"
     ]
    }
   ],
   "source": [
    "y_pred=rf.predict(X_test)\n",
    "print(confusion_matrix(y_test,y_pred))\n",
    "print(accuracy_score(y_test,y_pred))\n",
    "print(classification_report(y_test,y_pred))"
   ]
  },
  {
   "cell_type": "code",
   "execution_count": null,
   "metadata": {},
   "outputs": [],
   "source": []
  }
 ],
 "metadata": {
  "kernelspec": {
   "display_name": "Python 3",
   "language": "python",
   "name": "python3"
  },
  "language_info": {
   "codemirror_mode": {
    "name": "ipython",
    "version": 3
   },
   "file_extension": ".py",
   "mimetype": "text/x-python",
   "name": "python",
   "nbconvert_exporter": "python",
   "pygments_lexer": "ipython3",
   "version": "3.8.3"
  }
 },
 "nbformat": 4,
 "nbformat_minor": 4
}
